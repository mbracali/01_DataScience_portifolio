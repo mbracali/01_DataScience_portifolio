{
 "cells": [
  {
   "cell_type": "markdown",
   "metadata": {},
   "source": [
    "# Exercícios"
   ]
  },
  {
   "cell_type": "markdown",
   "metadata": {},
   "source": [
    "## 1) Escreva uma função que verifique se há uma letra no começo de uma frase. Se houver, retorne True, caso contrário, retorne False. "
   ]
  },
  {
   "cell_type": "code",
   "execution_count": 17,
   "metadata": {},
   "outputs": [
    {
     "name": "stdout",
     "output_type": "stream",
     "text": [
      "True\n",
      "False\n"
     ]
    }
   ],
   "source": [
    "\n",
    "def primeiraLetraString(texto):\n",
    "    import re\n",
    "    #rex = re.compile('\\\\b[a-zA-Z]')\n",
    "    rex = re.compile('^\\w')\n",
    "    result = rex.findall(texto)\n",
    "    if result[0].isdigit():\n",
    "        return False\n",
    "    else:\n",
    "        return True\n",
    "\n",
    "    \n",
    "texto = \"Ola mundo do REGEX\"\n",
    "texto2 = \"123\"\n",
    "\n",
    "print(primeiraLetraString(texto))\n",
    "print(primeiraLetraString(texto2))"
   ]
  },
  {
   "cell_type": "markdown",
   "metadata": {},
   "source": [
    "## 2) Reescreva a seguinte função usando:\n",
    "    -> map e lambda\n",
    "    -> list comprehension"
   ]
  },
  {
   "cell_type": "code",
   "execution_count": null,
   "metadata": {},
   "outputs": [],
   "source": [
    "squares = []\n",
    "for x in range(10):\n",
    "    squares.append(x**2)\n",
    "    \n",
    "print(squares)"
   ]
  },
  {
   "cell_type": "code",
   "execution_count": 35,
   "metadata": {},
   "outputs": [
    {
     "name": "stdout",
     "output_type": "stream",
     "text": [
      "[1, 4, 9, 16, 25]\n"
     ]
    }
   ],
   "source": [
    "lista1 = [1,2,3,4,5]\n",
    "print(list(map(lambda x: x**2,lista1)))"
   ]
  },
  {
   "cell_type": "code",
   "execution_count": 36,
   "metadata": {},
   "outputs": [
    {
     "name": "stdout",
     "output_type": "stream",
     "text": [
      "[1, 4, 9, 16, 25]\n"
     ]
    }
   ],
   "source": [
    "lista2 = [1,2,3,4,5]\n",
    "print([x**2 for x in lista2])"
   ]
  },
  {
   "cell_type": "markdown",
   "metadata": {},
   "source": [
    "## 3) Escreva em Python uma função que, dadas duas listas não vazias e de mesmo comprimento, retorne como resultado uma nova lista contendo em cada posição a soma dos elementos correspondentes nas duas listas recebidas.\n",
    "    -> l1 = [1,2,3,4,5]\n",
    "    -> l2 = [1,2,3,4,5]\n",
    "    -> resultado = [2,4,6,8,10]"
   ]
  },
  {
   "cell_type": "code",
   "execution_count": 37,
   "metadata": {},
   "outputs": [
    {
     "name": "stdout",
     "output_type": "stream",
     "text": [
      "[(1, 1), (2, 2), (3, 3), (4, 4), (5, 5)]\n"
     ]
    }
   ],
   "source": [
    "l1 = [1,2,3,4,5]\n",
    "l2 = [1,2,3,4,5]\n",
    "\n",
    "print(list(zip(l1,l2)))"
   ]
  },
  {
   "cell_type": "markdown",
   "metadata": {},
   "source": [
    "## 4) A amplitude de um vetor 3D é dado pela seguinte fórmula: $\\sqrt{x^2 + y^2 + z^2}$\n",
    "## Escreva uma função, usando lambda, que calcule a amplitude dos seguintes vetores:\n",
    "    -> (1,1,1) \n",
    "    -> (3,4,5)"
   ]
  },
  {
   "cell_type": "code",
   "execution_count": 41,
   "metadata": {},
   "outputs": [
    {
     "name": "stdout",
     "output_type": "stream",
     "text": [
      "1.7320508075688772\n",
      "7.0710678118654755\n"
     ]
    }
   ],
   "source": [
    "import math\n",
    "\n",
    "func1 = lambda x, y, z: math.sqrt((x**2) + (y**2) + (z**2))\n",
    "\n",
    "print(func1(1,1,1))\n",
    "print(func1(3,4,5))"
   ]
  },
  {
   "cell_type": "markdown",
   "metadata": {},
   "source": [
    "## 5) Use reduce para criar uma função que calcule o fatorial de qualquer número n"
   ]
  },
  {
   "cell_type": "code",
   "execution_count": 84,
   "metadata": {},
   "outputs": [
    {
     "name": "stdout",
     "output_type": "stream",
     "text": [
      "2\n"
     ]
    }
   ],
   "source": [
    "from functools import reduce\n",
    "numero = 2\n",
    "print(reduce(lambda x, y:  x*y if (x > 0) else 0, range(1,(numero+1))))"
   ]
  },
  {
   "cell_type": "markdown",
   "metadata": {},
   "source": [
    "## 6) Reescreva a função abaixo usando list comprehension:"
   ]
  },
  {
   "cell_type": "code",
   "execution_count": 2,
   "metadata": {},
   "outputs": [
    {
     "name": "stdout",
     "output_type": "stream",
     "text": [
      "['the', 'quick', 'brown', 'fox', 'jumps', 'over', 'the', 'lazy', 'dog']\n",
      "[5, 5, 3, 5, 4, 4, 3]\n"
     ]
    }
   ],
   "source": [
    "sentence = \"the quick brown fox jumps over the lazy dog\"\n",
    "words = sentence.split()\n",
    "word_lengths = []\n",
    "for word in words:\n",
    "      if word != \"the\":\n",
    "          word_lengths.append(len(word))\n",
    "print(words)\n",
    "print(word_lengths)"
   ]
  },
  {
   "cell_type": "code",
   "execution_count": 3,
   "metadata": {},
   "outputs": [
    {
     "name": "stdout",
     "output_type": "stream",
     "text": [
      "['the', 'quick', 'brown', 'fox', 'jumps', 'over', 'the', 'lazy', 'dog']\n",
      "[5, 5, 3, 5, 4, 4, 3]\n"
     ]
    }
   ],
   "source": [
    "# resposta 6\n",
    "print(words)\n",
    "print([len(x) for x in filter(lambda x : x != \"the\", words)])"
   ]
  },
  {
   "cell_type": "markdown",
   "metadata": {},
   "source": [
    "## 7) Calcule o número de meses desde a data que o brasil foi descoberto. Considere um mês com 30 dias. Dia do descobrimento do Brasil 22/04/1500."
   ]
  },
  {
   "cell_type": "code",
   "execution_count": 4,
   "metadata": {},
   "outputs": [
    {
     "name": "stdout",
     "output_type": "stream",
     "text": [
      "6322.666666666667\n"
     ]
    }
   ],
   "source": [
    "# resposta 7\n",
    "from datetime import date\n",
    "print(abs(date.today() - date(1500,4,22)).days / 30)"
   ]
  },
  {
   "cell_type": "markdown",
   "metadata": {},
   "source": [
    "## 8) Implementar um programa que receba um nome de arquivo e gere estatísticas sobre o arquivo (número de caracteres, número de linhas e número de palavras)\n",
    "    -> verifique a existência do arquivo\n",
    "    -> crie um arquivo de texto fictício contendo 10 linhas"
   ]
  },
  {
   "cell_type": "code",
   "execution_count": 5,
   "metadata": {},
   "outputs": [
    {
     "name": "stdout",
     "output_type": "stream",
     "text": [
      "Quantidade de Caracteres: 9841\n",
      "Quantidade de números: 274\n",
      "Quantidade de palavras: 4179\n",
      "Quantidade de espaços: 2890\n",
      "Quantidade de outros caracteres: 2498\n",
      "Quantidade de linhas: 413\n"
     ]
    }
   ],
   "source": [
    "# resposta 8\n",
    "import sys, os\n",
    "\n",
    "def GetFileStats(file):\n",
    "    if len(file) == 0:\n",
    "        return 'Informe um arquivo!'\n",
    "    else:\n",
    "        if(not os.path.exists(file)):\n",
    "            return 'Arquivo inexistente!'\n",
    "        f = open(str(file), \"r\")\n",
    "        contents = f.read()\n",
    "        print('Quantidade de Caracteres: %d' % len(contents))\n",
    "    \n",
    "        numbers = sum(c.isdigit() for c in contents)\n",
    "        words   = sum(c.isalpha() for c in contents)\n",
    "        spaces  = sum(c.isspace() for c in contents)\n",
    "        others  = len(contents) - numbers - words - spaces\n",
    "        lines   = len(contents.split('\\n'))\n",
    "                    \n",
    "        print('Quantidade de números: %d' % numbers)\n",
    "        print('Quantidade de palavras: %d' % words)\n",
    "        print('Quantidade de espaços: %d' % spaces)\n",
    "        print('Quantidade de outros caracteres: %d' % others)\n",
    "        print('Quantidade de linhas: %d' % lines)\n",
    "\n",
    "        f.close()\n",
    "\n",
    "\n",
    "    \n",
    "GetFileStats(\"AngeloBorges_desafio_aula2.ipynb\")"
   ]
  }
 ],
 "metadata": {
  "kernelspec": {
   "display_name": "Python 3",
   "language": "python",
   "name": "python3"
  },
  "language_info": {
   "codemirror_mode": {
    "name": "ipython",
    "version": 3
   },
   "file_extension": ".py",
   "mimetype": "text/x-python",
   "name": "python",
   "nbconvert_exporter": "python",
   "pygments_lexer": "ipython3",
   "version": "3.6.8"
  }
 },
 "nbformat": 4,
 "nbformat_minor": 4
}
