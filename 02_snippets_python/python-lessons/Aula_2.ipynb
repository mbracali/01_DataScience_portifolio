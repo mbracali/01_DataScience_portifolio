{
 "cells": [
  {
   "cell_type": "markdown",
   "metadata": {},
   "source": [
    "# Aula 2"
   ]
  },
  {
   "cell_type": "markdown",
   "metadata": {},
   "source": [
    "### Chamando um módulo"
   ]
  },
  {
   "cell_type": "code",
   "execution_count": null,
   "metadata": {},
   "outputs": [],
   "source": [
    "import calc\n",
    "l = [23, 54, 31, 77, 12, 34]\n",
    "print (calc.media(l))"
   ]
  },
  {
   "cell_type": "code",
   "execution_count": null,
   "metadata": {},
   "outputs": [],
   "source": [
    "import teste"
   ]
  },
  {
   "cell_type": "markdown",
   "metadata": {},
   "source": [
    "## Arquivos e I/O"
   ]
  },
  {
   "cell_type": "code",
   "execution_count": null,
   "metadata": {},
   "outputs": [],
   "source": [
    "import sys\n",
    "# Criando um objeto do tipo file\n",
    "temp = open('temp.txt', 'w')\n",
    "# Escrevendo no arquivo\n",
    "for i in range(100):\n",
    "    temp.write('%03d\\n' % i)\n",
    "# Fechando\n",
    "temp.close()\n",
    "temp = open('temp.txt')\n",
    "# Escrevendo no terminal\n",
    "for x in temp:\n",
    "    # Escrever em sys.stdout envia o texto para a saída padrão\n",
    "    sys.stdout.write(x)\n",
    "temp.close()"
   ]
  },
  {
   "cell_type": "code",
   "execution_count": null,
   "metadata": {},
   "outputs": [],
   "source": [
    "import sys\n",
    "import os.path\n",
    "# input() retorna a string digitada\n",
    "fn = input('Nome do arquivo: ').strip() #remove espaço em branco extra do nome do arquivo\n",
    "if not os.path.exists(fn):\n",
    "    print ('Tente outra vez...')\n",
    "    sys.exit()\n",
    "# Numerando as linhas\n",
    "for i, s in enumerate(open(fn)):\n",
    "    print (i + 1, s,)"
   ]
  },
  {
   "cell_type": "code",
   "execution_count": null,
   "metadata": {},
   "outputs": [],
   "source": [
    "# Imprime uma lista contendo linhas do arquivo\n",
    "print (open('temp.txt').readlines())"
   ]
  },
  {
   "cell_type": "code",
   "execution_count": null,
   "metadata": {},
   "outputs": [],
   "source": [
    "fn"
   ]
  },
  {
   "cell_type": "markdown",
   "metadata": {},
   "source": [
    "## Trabalhando com Tempo"
   ]
  },
  {
   "cell_type": "code",
   "execution_count": null,
   "metadata": {},
   "outputs": [],
   "source": [
    "import time\n",
    "print (time.localtime()) #imprime como uma estrutura\n",
    "print (time.asctime()) #imprime como string\n",
    "for x in range(5):\n",
    "    time.sleep(3)\n",
    "    print('Espera 3 segundos e imprime na tela\\n')"
   ]
  },
  {
   "cell_type": "code",
   "execution_count": null,
   "metadata": {},
   "outputs": [],
   "source": [
    "import datetime\n",
    "from datetime import timedelta\n",
    "\n",
    "dt = datetime.datetime(2020, 12, 31, 23, 59, 59) #criando uma data com horário\n",
    "\n",
    "data = dt.date() #retorna a data\n",
    "hora = dt.time() #retorna o horário\n",
    "\n",
    "dd = dt - dt.today() #cálculo de tempo\n",
    "print ('Data:', data)\n",
    "print ('Hora:', hora)\n",
    "print ('Quanto tempo falta para 31/12/2020:', dd)\n",
    "print ('1 ano a partir de agora será: '+ str(datetime.datetime.now() + timedelta(days=365)))"
   ]
  },
  {
   "cell_type": "markdown",
   "metadata": {},
   "source": [
    "## Regex - Expressões Regulares"
   ]
  },
  {
   "cell_type": "code",
   "execution_count": null,
   "metadata": {},
   "outputs": [],
   "source": [
    "import re\n",
    "rex = re.compile('\\w+') #qualquer caracter alfanumérico - compilao\n",
    "bandas = 'Queen, Aerosmith & Beatles'\n",
    "print (bandas, '->', rex.findall(bandas))\n",
    "phone = \"2004-959-559 \\\\ This is Phone Number\"\n",
    "num = re.sub(r'\\\\.*$', \"\", phone) #elimina tudo após #\n",
    "print (\"Phone Num : \", num)\n",
    "num = re.sub(r'\\D', \"\", phone)# só deixa número\n",
    "print (\"Phone Num : \", num)"
   ]
  },
  {
   "cell_type": "code",
   "execution_count": null,
   "metadata": {},
   "outputs": [],
   "source": []
  },
  {
   "cell_type": "markdown",
   "metadata": {},
   "source": [
    "## Programação Funcional"
   ]
  },
  {
   "cell_type": "markdown",
   "metadata": {},
   "source": [
    "### Lambda"
   ]
  },
  {
   "cell_type": "code",
   "execution_count": null,
   "metadata": {},
   "outputs": [],
   "source": [
    "#exemplos lambda\n",
    "\n",
    "quadrado = lambda num: num ** 2\n",
    "multiplicacao = lambda x,ay: x*y\n",
    "\n",
    "print(quadrado(2))\n",
    "print(multiplicacao(2,3))"
   ]
  },
  {
   "cell_type": "markdown",
   "metadata": {},
   "source": [
    "### Map"
   ]
  },
  {
   "cell_type": "code",
   "execution_count": null,
   "metadata": {},
   "outputs": [],
   "source": [
    "import math\n",
    "lista1 = [1, 4, 9, 16, 25]\n",
    "lista2 = map(math.sqrt, lista1)\n",
    "print(list(lista2))"
   ]
  },
  {
   "cell_type": "code",
   "execution_count": null,
   "metadata": {},
   "outputs": [],
   "source": [
    "nums = [1, 2, 3, 4, 5, 6, 7, 8, 9, 10, 11, 12]\n",
    "from math import log10\n",
    "print (list(map(log10, nums)))\n",
    "print (list(map(lambda x: x / 3, nums)))"
   ]
  },
  {
   "cell_type": "markdown",
   "metadata": {},
   "source": [
    "### Reduce"
   ]
  },
  {
   "cell_type": "code",
   "execution_count": null,
   "metadata": {},
   "outputs": [],
   "source": [
    "from functools import reduce\n",
    "nums = range(100)\n",
    "print (reduce(lambda x, y: x + y, nums))\n",
    "\n",
    "f = lambda a,b: a if (a > b) else b\n",
    "print(reduce(f, [47,11,42,102,13]))"
   ]
  },
  {
   "cell_type": "markdown",
   "metadata": {},
   "source": [
    "### Filter"
   ]
  },
  {
   "cell_type": "code",
   "execution_count": null,
   "metadata": {},
   "outputs": [],
   "source": [
    "x = [1,2,3,4,5,6,7]\n",
    "print (list(filter(lambda x: x % 2, x)))\n",
    "\n",
    "number_list = range(-5, 5)\n",
    "less_than_zero = list(filter(lambda x: x < 0, number_list))\n",
    "print(less_than_zero)"
   ]
  },
  {
   "cell_type": "markdown",
   "metadata": {},
   "source": [
    "### Transposição"
   ]
  },
  {
   "cell_type": "code",
   "execution_count": null,
   "metadata": {},
   "outputs": [],
   "source": [
    "x = [1, 2, 3]\n",
    "y = [4, 5, 6]\n",
    "print (list(zip(x, y)))\n",
    "\n",
    "matriz = [[1, 2, 3], [4, 5, 6], [7, 8, 9]]\n",
    "print (list(zip(*matriz))) #Descompacta e depois faz a transposição"
   ]
  },
  {
   "cell_type": "markdown",
   "metadata": {},
   "source": [
    "### List Comprehension"
   ]
  },
  {
   "cell_type": "code",
   "execution_count": null,
   "metadata": {},
   "outputs": [],
   "source": [
    "S = [x*2 for x in range(0, 10)]\n",
    "print(S)"
   ]
  },
  {
   "cell_type": "code",
   "execution_count": null,
   "metadata": {},
   "outputs": [],
   "source": [
    "nums = [1, 2, 3, 4, 5, 6, 7, 8, 9, 10, 11, 12]\n",
    "print ([ x**2 for x in nums if x % 2 ])"
   ]
  },
  {
   "cell_type": "code",
   "execution_count": null,
   "metadata": {},
   "outputs": [],
   "source": [
    "[[s.capitalize(), s.upper(), len(s)] for s in ['um', 'dois', 'tres']]"
   ]
  },
  {
   "cell_type": "markdown",
   "metadata": {},
   "source": [
    "## Tratamento de Exceção"
   ]
  },
  {
   "cell_type": "code",
   "execution_count": null,
   "metadata": {},
   "outputs": [],
   "source": [
    "print(1/0)"
   ]
  },
  {
   "cell_type": "code",
   "execution_count": null,
   "metadata": {},
   "outputs": [],
   "source": [
    "try:\n",
    "    print(1/0)\n",
    "except ZeroDivisionError:\n",
    "    print('Erro ao tentar dividir por zero')"
   ]
  },
  {
   "cell_type": "code",
   "execution_count": null,
   "metadata": {},
   "outputs": [],
   "source": [
    "import traceback\n",
    "# Tente receber o nome do arquivo\n",
    "try:\n",
    "    fn = input('Nome do arquivo: ').strip()\n",
    "    \n",
    "    # Numerando as linhas\n",
    "    for i, s in enumerate(fn):\n",
    "        print (i + 1, s,)\n",
    "        print(1/0)\n",
    "    # Se ocorrer um erro\n",
    "except:\n",
    "    # Mostre na tela\n",
    "    trace = traceback.format_exc()\n",
    "    print ('Aconteceu um erro:\\n', trace)\n",
    "    # Encerre o programa\n",
    "    raise SystemExit"
   ]
  },
  {
   "cell_type": "code",
   "execution_count": null,
   "metadata": {},
   "outputs": [],
   "source": []
  }
 ],
 "metadata": {
  "kernelspec": {
   "display_name": "Python 3",
   "language": "python",
   "name": "python3"
  },
  "language_info": {
   "codemirror_mode": {
    "name": "ipython",
    "version": 3
   },
   "file_extension": ".py",
   "mimetype": "text/x-python",
   "name": "python",
   "nbconvert_exporter": "python",
   "pygments_lexer": "ipython3",
   "version": "3.6.4"
  }
 },
 "nbformat": 4,
 "nbformat_minor": 2
}
