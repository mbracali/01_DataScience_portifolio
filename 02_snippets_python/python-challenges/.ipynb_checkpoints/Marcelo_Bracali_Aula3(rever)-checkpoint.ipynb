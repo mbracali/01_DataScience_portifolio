{
 "cells": [
  {
   "cell_type": "markdown",
   "metadata": {},
   "source": [
    "# Exercícios"
   ]
  },
  {
   "cell_type": "markdown",
   "metadata": {},
   "source": [
    "## 1) Crie uma classe que irá modelar características geométricas de um círculo. Deverá implementar os métodos:\n",
    "        -> Área \n",
    "        -> Perímetro\n",
    "## Utilize atributos de classe e de instância apropriados. Crie um inicializador e métodos.\n",
    "$area = \\pi*r^2$\n",
    "\n",
    "$perimetro = 2*\\pi*r$"
   ]
  },
  {
   "cell_type": "code",
   "execution_count": 54,
   "metadata": {},
   "outputs": [
    {
     "name": "stdout",
     "output_type": "stream",
     "text": [
      "3.14\n",
      "200.96\n",
      "50.24\n"
     ]
    }
   ],
   "source": [
    "class circulo:    \n",
    "    def __init__(self,pi=3.14):\n",
    "        self.pi = pi\n",
    "        print(self.pi)\n",
    "    \n",
    "    def area(self, r):\n",
    "        print(self.pi * (r**2))\n",
    "        \n",
    "    \n",
    "    def perimetro(self, r):\n",
    "        print(2*self.pi*r)\n",
    "\n",
    "cir = circulo()\n",
    "\n",
    "cir.area(8)\n",
    "cir.perimetro(8)\n"
   ]
  },
  {
   "cell_type": "markdown",
   "metadata": {},
   "source": [
    "## 2) Crie uma classe chamada matemática que conterá duas classes: trigonométrica e algébrica. Defina dentro da classe trigonométrica as seguintes funções:\n",
    "    -> seno\n",
    "    -> cosseno\n",
    "    -> tangente\n",
    "## Defina dentro da classe algébrica as seguintes funções: \n",
    "    -> soma\n",
    "    -> subtração\n",
    "    -> multiplicação\n",
    "    -> divisão\n",
    "## Cada função deverá receber array e retornar array"
   ]
  },
  {
   "cell_type": "code",
   "execution_count": 60,
   "metadata": {},
   "outputs": [],
   "source": [
    "class matematica:\n",
    "    import numpy as np\n",
    "    class trigonometrica:\n",
    "        def __init__(self, arr):\n",
    "            self.arr = np.array(arr)\n",
    "            print(self.arr)\n",
    "            return True\n",
    "        def seno():\n",
    "            return True\n",
    "        def cosseno():\n",
    "            return True\n",
    "        def tangente():\n",
    "            return True\n",
    "        \n",
    "    class algebrica:\n",
    "        def __init__():\n",
    "            return True\n",
    "        def soma():\n",
    "            return True\n",
    "        def subtracao():\n",
    "            return True\n",
    "        def multiplicacao():\n",
    "            return True\n",
    "        def divisao():\n",
    "            return True\n",
    "        \n",
    "        "
   ]
  },
  {
   "cell_type": "markdown",
   "metadata": {},
   "source": [
    "## 3) Dados 2 arrays, A e B, remova de A todo elemento pertencente a B"
   ]
  },
  {
   "cell_type": "code",
   "execution_count": null,
   "metadata": {},
   "outputs": [],
   "source": [
    "# resposta 3"
   ]
  },
  {
   "cell_type": "markdown",
   "metadata": {},
   "source": [
    "## 4) Crie uma função que recebe um array, um inteiro n e um inteiro m e que retorne outro array contendo elementos que estão entre os valores n e m do array recebido pela função. "
   ]
  },
  {
   "cell_type": "code",
   "execution_count": null,
   "metadata": {},
   "outputs": [],
   "source": [
    "# resposta 4"
   ]
  },
  {
   "cell_type": "markdown",
   "metadata": {},
   "source": [
    "## 5) Escreva uma função que recebe um vetor e um inteiro. Compare cada elemento desse vetor com o número inteiro. Se o elemento do vetor for maior, retorne a diferença entre eles, caso contrário, retorne a soma."
   ]
  },
  {
   "cell_type": "code",
   "execution_count": null,
   "metadata": {},
   "outputs": [],
   "source": [
    "# resposta 5"
   ]
  },
  {
   "cell_type": "markdown",
   "metadata": {},
   "source": [
    "## 6) Dada a seguinte matriz:\n",
    "    -> [ 8,1,7\n",
    "         4,3,9\n",
    "         5,2,6]\n",
    "## escreva uma função que retorne a matriz ordenada por um dos eixos. utilize a função built-in sorted para realizar a ordenação"
   ]
  },
  {
   "cell_type": "code",
   "execution_count": null,
   "metadata": {},
   "outputs": [],
   "source": [
    "# resposta 6"
   ]
  }
 ],
 "metadata": {
  "kernelspec": {
   "display_name": "Python 3",
   "language": "python",
   "name": "python3"
  },
  "language_info": {
   "codemirror_mode": {
    "name": "ipython",
    "version": 3
   },
   "file_extension": ".py",
   "mimetype": "text/x-python",
   "name": "python",
   "nbconvert_exporter": "python",
   "pygments_lexer": "ipython3",
   "version": "3.6.8"
  }
 },
 "nbformat": 4,
 "nbformat_minor": 4
}
