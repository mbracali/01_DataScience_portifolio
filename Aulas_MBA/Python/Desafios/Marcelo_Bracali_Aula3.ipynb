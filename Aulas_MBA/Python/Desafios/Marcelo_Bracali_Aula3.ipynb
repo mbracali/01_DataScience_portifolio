{
 "cells": [
  {
   "cell_type": "markdown",
   "metadata": {},
   "source": [
    "# Exercícios"
   ]
  },
  {
   "cell_type": "code",
   "execution_count": 2,
   "metadata": {},
   "outputs": [],
   "source": [
    "#Libs usadas no projeto\n",
    "import math, numpy as np"
   ]
  },
  {
   "cell_type": "markdown",
   "metadata": {},
   "source": [
    "## 1) Crie uma classe que irá modelar características geométricas de um círculo. Deverá implementar os métodos:\n",
    "        -> Área \n",
    "        -> Perímetro\n",
    "## Utilize atributos de classe e de instância apropriados. Crie um inicializador e métodos.\n",
    "$area = \\pi*r^2$\n",
    "\n",
    "$perimetro = 2*\\pi*r$"
   ]
  },
  {
   "cell_type": "code",
   "execution_count": 3,
   "metadata": {},
   "outputs": [
    {
     "name": "stdout",
     "output_type": "stream",
     "text": [
      "3.141592653589793\n",
      "6.283185307179586\n"
     ]
    }
   ],
   "source": [
    "class Circulo:\n",
    "  def __init__(self, raio):\n",
    "    self.raio = raio\n",
    "  \n",
    "  def calcula_area(self):\n",
    "    return math.pi * (self.raio ** 2)\n",
    "  \n",
    "  def calcula_perimetro(self):\n",
    "    return (2 * math.pi * self.raio)\n",
    "\n",
    "circulo = Circulo(raio=1)\n",
    "\n",
    "print(circulo.calcula_area())\n",
    "print(circulo.calcula_perimetro())"
   ]
  },
  {
   "cell_type": "markdown",
   "metadata": {},
   "source": [
    "## 2) Crie uma classe chamada matemática que conterá duas classes: trigonométrica e algébrica. Defina dentro da classe trigonométrica as seguintes funções:\n",
    "    -> seno\n",
    "    -> cosseno\n",
    "    -> tangente\n",
    "## Defina dentro da classe algébrica as seguintes funções: \n",
    "    -> soma\n",
    "    -> subtração\n",
    "    -> multiplicação\n",
    "    -> divisão\n",
    "## Cada função deverá receber array e retornar array"
   ]
  },
  {
   "cell_type": "code",
   "execution_count": 4,
   "metadata": {},
   "outputs": [
    {
     "name": "stdout",
     "output_type": "stream",
     "text": [
      "Valores calculados para Array: [2, 4, 8]\n",
      "Seno [ 0.90929743 -0.7568025   0.98935825]\n",
      "Cosseno [-0.41614684 -0.65364362 -0.14550003]\n",
      "Tangente [-2.18503986  1.15782128 -6.79971146]\n",
      "\n",
      "Valores calculados: Array A: [1, 2], Array B: [1, 2]\n",
      "Soma [3 6]\n",
      "Subtração [1 2]\n",
      "Divisão [2. 2.]\n",
      "Multiplicação [2 8]\n"
     ]
    }
   ],
   "source": [
    "class Matematica(object):\n",
    "  \n",
    "  def __init__(self, a):\n",
    "    self.arrayA = a\n",
    "    \n",
    "class Trigonometrica(Matematica):\n",
    "\n",
    "  def seno(self):\n",
    "    return np.sin(self.arrayA)\n",
    "\n",
    "  def cosseno(self):\n",
    "    return np.cos(self.arrayA)\n",
    "\n",
    "  def tangente(self):\n",
    "    return np.tan(self.arrayA)\n",
    "\n",
    "class Algebrica(Matematica):\n",
    "\n",
    "  def __init__(self, a, b):\n",
    "    super().__init__(a)\n",
    "    self.arrayB = b\n",
    "    \n",
    "  def soma(self): \n",
    "    return np.add(self.arrayA,self.arrayB)\n",
    "\n",
    "  def subtracao(self): \n",
    "    return np.subtract(self.arrayA,self.arrayB)\n",
    "\n",
    "  def divisao(self): \n",
    "    return np.divide(self.arrayA,self.arrayB)\n",
    "\n",
    "  def multiplicacao(self): \n",
    "    return np.multiply(self.arrayA,self.arrayB)\n",
    "\n",
    "\n",
    "array_trig_a = [2, 4, 8] \n",
    "print(f\"Valores calculados para Array: {array_trig_a}\")\n",
    "\n",
    "trig = Trigonometrica(array_trig_a)\n",
    "\n",
    "print(f\"Seno {trig.seno()}\")\n",
    "print(f\"Cosseno {trig.cosseno()}\")\n",
    "print(f\"Tangente {trig.tangente()}\")\n",
    "\n",
    "array_alg_a = [2,4]\n",
    "array_alg_b = [1,2]\n",
    "print(f\"\\nValores calculados: Array A: {array_alg_b}, Array B: {array_alg_b}\")\n",
    "\n",
    "alg = Algebrica(array_alg_a, array_alg_b)\n",
    "\n",
    "print(f\"Soma {alg.soma()}\")\n",
    "print(f\"Subtração {alg.subtracao()}\")\n",
    "print(f\"Divisão {alg.divisao()}\")\n",
    "print(f\"Multiplicação {alg.multiplicacao()}\")"
   ]
  },
  {
   "cell_type": "markdown",
   "metadata": {},
   "source": [
    "## 3) Dados 2 arrays, A e B, remova de A todo elemento pertencente a B"
   ]
  },
  {
   "cell_type": "code",
   "execution_count": 5,
   "metadata": {},
   "outputs": [
    {
     "name": "stdout",
     "output_type": "stream",
     "text": [
      "Valores que pertecem apenas ao array A [ 8 11 33]\n"
     ]
    }
   ],
   "source": [
    "def remove(arrayA, arrayB):\n",
    "  return np.setdiff1d(arrayA, arrayB)\n",
    "\n",
    "A = np.array([11,2,4,8,33])\n",
    "B = np.array([1,2,3,4])\n",
    "\n",
    "print(f\"Valores que pertecem apenas ao array A {remove(A, B)}\")"
   ]
  },
  {
   "cell_type": "markdown",
   "metadata": {},
   "source": [
    "## 4) Crie uma função que recebe um array, um inteiro n e um inteiro m e que retorne outro array contendo elementos que estão entre os valores n e m do array recebido pela função. "
   ]
  },
  {
   "cell_type": "code",
   "execution_count": 6,
   "metadata": {},
   "outputs": [
    {
     "name": "stdout",
     "output_type": "stream",
     "text": [
      "Para o array [-1  8 44  3  7  4 13  6] os numeros existentes entre 2 e 9 são: [8 3 7 4 6]\n"
     ]
    }
   ],
   "source": [
    "def retorna_valores_existentes(array,n,m):\n",
    "  arrarNM = np.arange(n,m)\n",
    "  mask = np.isin(array,arrarNM)\n",
    "  return array[mask]\n",
    "  \n",
    "array = np.array([-1,8,44,3,7,4,13,6])\n",
    "n = 2\n",
    "m = 9\n",
    "resultado = retorna_valores_existentes(array, n, m)\n",
    "\n",
    "print(f\"Para o array {array} os numeros existentes entre {n} e {m} são: {resultado}\")"
   ]
  },
  {
   "cell_type": "markdown",
   "metadata": {},
   "source": [
    "## 5) Escreva uma função que recebe um vetor e um inteiro. Compare cada elemento desse vetor com o número inteiro. Se o elemento do vetor for maior, retorne a diferença entre eles, caso contrário, retorne a soma."
   ]
  },
  {
   "cell_type": "code",
   "execution_count": 7,
   "metadata": {},
   "outputs": [
    {
     "name": "stdout",
     "output_type": "stream",
     "text": [
      "[3 4 1]\n"
     ]
    }
   ],
   "source": [
    "def calcula(vetor, inteiro):\n",
    "  array = np.array(vetor)\n",
    "  return np.where(array > inteiro, array - inteiro, array + inteiro)\n",
    "\n",
    "vetor = [1,2,3]\n",
    "inteiro = 2\n",
    "\n",
    "print(calcula(vetor, inteiro))"
   ]
  },
  {
   "cell_type": "markdown",
   "metadata": {},
   "source": [
    "## 6) Dada a seguinte matriz:\n",
    "    -> [ 8,1,7\n",
    "         4,3,9\n",
    "         5,2,6]\n",
    "## escreva uma função que retorne a matriz ordenada por um dos eixos. utilize a função built-in sorted para realizar a ordenação"
   ]
  },
  {
   "cell_type": "code",
   "execution_count": 8,
   "metadata": {},
   "outputs": [
    {
     "name": "stdout",
     "output_type": "stream",
     "text": [
      "Quick Sort: [[1 7 8]\n",
      " [3 4 9]\n",
      " [2 5 6]]\n"
     ]
    }
   ],
   "source": [
    "def quick_sort(matriz):\n",
    "  arr = np.array(matriz)\n",
    "  return np.sort(arr)\n",
    "\n",
    "matrix = [[8,1,7],[4,3,9],[5,2,6]]\n",
    "print(f\"Quick Sort: {quick_sort(matrix)}\")"
   ]
  },
  {
   "cell_type": "code",
   "execution_count": null,
   "metadata": {},
   "outputs": [],
   "source": []
  }
 ],
 "metadata": {
  "kernelspec": {
   "display_name": "Python 3",
   "language": "python",
   "name": "python3"
  },
  "language_info": {
   "codemirror_mode": {
    "name": "ipython",
    "version": 3
   },
   "file_extension": ".py",
   "mimetype": "text/x-python",
   "name": "python",
   "nbconvert_exporter": "python",
   "pygments_lexer": "ipython3",
   "version": "3.6.8"
  }
 },
 "nbformat": 4,
 "nbformat_minor": 4
}
