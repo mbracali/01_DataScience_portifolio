{
 "cells": [
  {
   "cell_type": "markdown",
   "metadata": {},
   "source": [
    "# Exercícios"
   ]
  },
  {
   "cell_type": "markdown",
   "metadata": {},
   "source": [
    "## 1) Inicie uma variável com o valor “josé da silva martins” e converta para o formato “José Da Silva Martins”, com uma única operação. Utilize string e/ou capwords.\n"
   ]
  },
  {
   "cell_type": "code",
   "execution_count": 3,
   "metadata": {},
   "outputs": [
    {
     "data": {
      "text/plain": [
       "'José Da Silva Martins'"
      ]
     },
     "execution_count": 3,
     "metadata": {},
     "output_type": "execute_result"
    }
   ],
   "source": [
    "import string\n",
    "nome = \"josé da silva martins\"\n",
    "nome_fix = string.capwords(nome)\n",
    "nome_fix"
   ]
  },
  {
   "cell_type": "markdown",
   "metadata": {},
   "source": [
    "## 2) Crie uma função que verifique se um determinado número é ímpar, sendo ímpar deverá retornar verdadeiro e falso o contrário."
   ]
  },
  {
   "cell_type": "code",
   "execution_count": 11,
   "metadata": {},
   "outputs": [
    {
     "data": {
      "text/plain": [
       "False"
      ]
     },
     "execution_count": 11,
     "metadata": {},
     "output_type": "execute_result"
    }
   ],
   "source": [
    "def e_impar (v1, v2=2):\n",
    "    if v1%v2 == 1:\n",
    "        return True\n",
    "    else:\n",
    "        return False\n",
    "\n",
    "e_impar(2)        "
   ]
  },
  {
   "cell_type": "markdown",
   "metadata": {},
   "source": [
    "## 3) Dado uma lista l = [1.2232, 2.322, 43.23131, 6.34324, 78.3243] transforme seus valores para que ao final tenhamos números arrendados na segunda casa decimal. Utilize a função built-in round(numero, casas_decimais)\n"
   ]
  },
  {
   "cell_type": "code",
   "execution_count": 62,
   "metadata": {},
   "outputs": [
    {
     "data": {
      "text/plain": [
       "[1.22, 2.32, 43.23, 6.34, 78.32]"
      ]
     },
     "execution_count": 62,
     "metadata": {},
     "output_type": "execute_result"
    }
   ],
   "source": [
    "lista = [1.2232, 2.322, 43.23131, 6.34324, 78.3243]\n",
    "lista_arend = [round(x,2) for x in lista]\n",
    "\n",
    "lista_arend"
   ]
  },
  {
   "cell_type": "markdown",
   "metadata": {},
   "source": [
    "## 4) Crie uma função que retorne na forma de um dicionário as seguintes informações do texto abaixo: número de palavras (e palavras), número de números (e números) e número de frases (e frases). Utilize a função built-in isdigit() do pacote string para verificar se determinado caractere é número e split(separador) para criar uma lista a partir do caracatere ou token de separação."
   ]
  },
  {
   "cell_type": "raw",
   "metadata": {},
   "source": [
    "Brasil, oficialmente República Federativa do Brasil é o maior país da América do Sul e da região da América Latina, sendo o quinto maior do mundo em área territorial (equivalente a 47 porcento do território sul-americano) e sexto em população (com mais de 200 milhões de habitantes). É o único país na América onde se fala majoritariamente a língua portuguesa e o maior país lusófono do planeta, além de ser uma das nações mais multiculturais e etnicamente diversas, em decorrência da forte imigração oriunda de variados locais do mundo."
   ]
  },
  {
   "cell_type": "code",
   "execution_count": 68,
   "metadata": {},
   "outputs": [
    {
     "data": {
      "text/plain": [
       "{'num_palavras': 89,\n",
       " 'num_numeros': 2,\n",
       " 'num_frases': 2,\n",
       " 'lista_palavras': ['Brasil,',\n",
       "  'oficialmente',\n",
       "  'República',\n",
       "  'Federativa',\n",
       "  'do',\n",
       "  'Brasil',\n",
       "  'é',\n",
       "  'o',\n",
       "  'maior',\n",
       "  'país',\n",
       "  'da',\n",
       "  'América',\n",
       "  'do',\n",
       "  'Sul',\n",
       "  'e',\n",
       "  'da',\n",
       "  'região',\n",
       "  'da',\n",
       "  'América',\n",
       "  'Latina,',\n",
       "  'sendo',\n",
       "  'o',\n",
       "  'quinto',\n",
       "  'maior',\n",
       "  'do',\n",
       "  'mundo',\n",
       "  'em',\n",
       "  'área',\n",
       "  'territorial',\n",
       "  '(equivalente',\n",
       "  'a',\n",
       "  '47',\n",
       "  'porcento',\n",
       "  'do',\n",
       "  'território',\n",
       "  'sul-americano)',\n",
       "  'e',\n",
       "  'sexto',\n",
       "  'em',\n",
       "  'população',\n",
       "  '(com',\n",
       "  'mais',\n",
       "  'de',\n",
       "  '200',\n",
       "  'milhões',\n",
       "  'de',\n",
       "  'habitantes).',\n",
       "  'É',\n",
       "  'o',\n",
       "  'único',\n",
       "  'país',\n",
       "  'na',\n",
       "  'América',\n",
       "  'onde',\n",
       "  'se',\n",
       "  'fala',\n",
       "  'majoritariamente',\n",
       "  'a',\n",
       "  'língua',\n",
       "  'portuguesa',\n",
       "  'e',\n",
       "  'o',\n",
       "  'maior',\n",
       "  'país',\n",
       "  'lusófono',\n",
       "  'do',\n",
       "  'planeta,',\n",
       "  'além',\n",
       "  'de',\n",
       "  'ser',\n",
       "  'uma',\n",
       "  'das',\n",
       "  'nações',\n",
       "  'mais',\n",
       "  'multiculturais',\n",
       "  'e',\n",
       "  'etnicamente',\n",
       "  'diversas,',\n",
       "  'em',\n",
       "  'decorrência',\n",
       "  'da',\n",
       "  'forte',\n",
       "  'imigração',\n",
       "  'oriunda',\n",
       "  'de',\n",
       "  'variados',\n",
       "  'locais',\n",
       "  'do',\n",
       "  'mundo']}"
      ]
     },
     "execution_count": 68,
     "metadata": {},
     "output_type": "execute_result"
    }
   ],
   "source": [
    "def analisa_texto(texto):\n",
    "    contador = 0\n",
    "    digits_text = []\n",
    "    for c in texto.split():\n",
    "        if c.isdigit():\n",
    "            digits_text.append(i)\n",
    "\n",
    "    \n",
    "    dict_teste = {\n",
    "        'num_palavras':len(texto.split()),\n",
    "        'num_numeros': len(digits_text),\n",
    "        'num_frases':len(texto.split(\".\")),\n",
    "        'lista_palavras':texto.split()\n",
    "    }\n",
    "    return dict_teste\n",
    "\n",
    "\n",
    "\n",
    "texto = \"Brasil, oficialmente República Federativa do Brasil é o maior país da América do Sul e da região da América Latina, sendo o quinto maior do mundo em área territorial (equivalente a 47 porcento do território sul-americano) e sexto em população (com mais de 200 milhões de habitantes). É o único país na América onde se fala majoritariamente a língua portuguesa e o maior país lusófono do planeta, além de ser uma das nações mais multiculturais e etnicamente diversas, em decorrência da forte imigração oriunda de variados locais do mundo\"\n",
    "\n",
    "dict_teste = analisa_texto(texto)\n",
    "dict_teste"
   ]
  },
  {
   "cell_type": "markdown",
   "metadata": {},
   "source": [
    "## 5) Implemente um algoritmo que calcule o fatorial de número de modo não-recursivo"
   ]
  },
  {
   "cell_type": "code",
   "execution_count": 30,
   "metadata": {},
   "outputs": [
    {
     "data": {
      "text/plain": [
       "120"
      ]
     },
     "execution_count": 30,
     "metadata": {},
     "output_type": "execute_result"
    }
   ],
   "source": [
    "def fatorial(n):\n",
    "     fat = 1\n",
    "     x = 1\n",
    "     while x <= n:\n",
    "         fat *= x\n",
    "         x += 1\n",
    "     return fat\n",
    "\n",
    "resultado = fatorial(5)\n",
    "resultado"
   ]
  },
  {
   "cell_type": "markdown",
   "metadata": {},
   "source": [
    "## 6) Implemente duas funções:\n",
    "> Uma que converta graus Celsius para Fahrenheit\n",
    "\n",
    "> Outra que converta graus Fahrenheit para Celsius\n",
    "\n",
    "> 𝐹=  9/5×𝐶+32"
   ]
  },
  {
   "cell_type": "code",
   "execution_count": 44,
   "metadata": {},
   "outputs": [
    {
     "name": "stdout",
     "output_type": "stream",
     "text": [
      "\n",
      "Teste de 32 Fahrenheit para Celsius:\n",
      "0.0\n",
      "\n",
      "Teste de 0 Celsius para Fahrenheit:\n",
      "32.0\n",
      "\n"
     ]
    }
   ],
   "source": [
    "def celsius_to_fahrenheit(celsius):\n",
    "    fahrenheit = (celsius * 1.8) + 32\n",
    "    return fahrenheit\n",
    "    \n",
    "def fahrenheit_to_celsius(fahrenheit):\n",
    "    celsius = (fahrenheit - 32) / 1.8\n",
    "    return celsius\n",
    "\n",
    "\n",
    "\n",
    "print(f\"\"\"\n",
    "Teste de 32 Fahrenheit para Celsius:\n",
    "{fahrenheit_to_celsius(32)}\n",
    "\n",
    "Teste de 0 Celsius para Fahrenheit:\n",
    "{celsius_to_fahrenheit(0)}\n",
    "\"\"\")\n"
   ]
  },
  {
   "cell_type": "markdown",
   "metadata": {},
   "source": [
    "## 7) Implemente uma função que receba uma lista com 100 números, de 0 a 100, e retorne outra lista contendo apenas os números primos. \n",
    "    > Use numpy.arange para gerar a lista"
   ]
  },
  {
   "cell_type": "code",
   "execution_count": 19,
   "metadata": {},
   "outputs": [
    {
     "name": "stdout",
     "output_type": "stream",
     "text": [
      "[0, 2, 3, 5, 7, 11, 13, 17, 19, 23, 29, 31, 37, 41, 43, 47, 53, 59, 61, 67, 71, 73, 79, 83, 89, 97]\n"
     ]
    }
   ],
   "source": [
    "def retorna_lista_primos(numeros = 101):\n",
    "    import numpy as np\n",
    "    divisores = 0\n",
    "    numeros = np.arange(0,numeros)\n",
    "    lista = []\n",
    "    for i in numeros:\n",
    "        é_primo = True\n",
    "\n",
    "        # procure por um divisor de n entre 2 e n-1\n",
    "        divisor = 2\n",
    "        while divisor < i and é_primo: # equivalente a \"div... and é_primo == True:\"\n",
    "            if i % divisor == 0:\n",
    "                é_primo = False\n",
    "            divisor += 1\n",
    "\n",
    "\n",
    "        if é_primo and i != 1: # 1 não é primo\n",
    "            lista.append(i)\n",
    "        #else:\n",
    "            #print(\"Passando por um não é primo\")\n",
    "\n",
    "    return(lista)\n",
    "\n",
    "print(retorna_lista_primos())"
   ]
  }
 ],
 "metadata": {
  "kernelspec": {
   "display_name": "Python 3",
   "language": "python",
   "name": "python3"
  },
  "language_info": {
   "codemirror_mode": {
    "name": "ipython",
    "version": 3
   },
   "file_extension": ".py",
   "mimetype": "text/x-python",
   "name": "python",
   "nbconvert_exporter": "python",
   "pygments_lexer": "ipython3",
   "version": "3.6.8"
  }
 },
 "nbformat": 4,
 "nbformat_minor": 4
}
