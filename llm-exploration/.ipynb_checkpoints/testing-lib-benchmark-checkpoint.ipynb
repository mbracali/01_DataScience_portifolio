{
 "cells": [
  {
   "cell_type": "markdown",
   "id": "2d7ba319-bc66-46a0-8ff3-ad2744827961",
   "metadata": {
    "tags": []
   },
   "source": [
    "<h1>Nutrien + LLMs - Llama2/Vicuna com RAG</h1>"
   ]
  },
  {
   "cell_type": "markdown",
   "id": "e857ed03-95fc-4ebd-9be6-a715e021f438",
   "metadata": {},
   "source": [
    "Esse notebook foi criado com o intuito de explorar as possibilidades de utilização de LLM's com a técnica de RAG. Aqui vamos utilizar modelos de conversação para extrair dados de textos completos e responder de forma coesa perguntas inputadas pelo usuário."
   ]
  },
  {
   "cell_type": "markdown",
   "id": "c793102c-2b62-417a-8774-2819a8d5e59b",
   "metadata": {},
   "source": [
    "<h2>Prefácio e considerações</h2>"
   ]
  },
  {
   "cell_type": "markdown",
   "id": "fa04e0b6-b62c-4c03-949d-7d67e69a51ef",
   "metadata": {},
   "source": [
    "<h3>Glossário + links</h3>\n",
    "\n",
    "* O que é um __LLM__: https://pt.wikipedia.org/wiki/Modelo_de_linguagem_grande \n",
    "* Um LLM chamado __LLAMA2__: https://pt.wikipedia.org/wiki/LLaMA\n",
    "    * LLAMA2 CHAT 7b: https://huggingface.co/TheBloke/Llama-2-7B-Chat-GGUF/blob/main/llama-2-7b-chat.Q5_K_M.gguf\n",
    "    * LLAMA2 CHAT 13b: https://huggingface.co/TheBloke/Llama-2-13B-chat-GGUF/blob/main/llama-2-13b-chat.Q5_K_S.gguf\n",
    "* Um LLM chamado __Vicuna__: https://en.wikipedia.org/wiki/Vicuna_LLM\n",
    "    * Vicuna 13b Q5: https://huggingface.co/TheBloke/vicuna-13B-v1.5-16K-GGUF/blob/main/vicuna-13b-v1.5-16k.Q5_K_S.gguf\n",
    "    * Vicuna 13b Q3: https://huggingface.co/TheBloke/vicuna-13B-v1.5-16K-GGUF/blob/main/vicuna-13b-v1.5-16k.Q3_K_L.gguf\n",
    "* O que é RAG: https://medium.com/blog-do-zouza/rag-retrieval-augmented-generation-8238a20e381d#:~:text=A%20RAG%20%C3%A9%20uma%20t%C3%A9cnica,de%20dados%20adicionais%20sem%20retreinamento\n",
    "* Links utilizados como __auxilio nessa exploração__:\n",
    "    * Utilização de LLM's de forma __local__: https://python.langchain.com/docs/guides/local_llms\n",
    "    * Guia de referencia da LIB __Langchain__: https://api.python.langchain.com/en/latest/langchain_api_reference.html\n",
    "    * Guia de referencia da LIB __llama-cpp__: https://python.langchain.com/docs/integrations/llms/llamacpp\n",
    "    * Guia de referencia da LIB __llama-index__: https://docs.llamaindex.ai/en/stable/"
   ]
  },
  {
   "cell_type": "code",
   "execution_count": 1,
   "id": "802b3fb2-0d61-41db-8967-7747c0232389",
   "metadata": {},
   "outputs": [],
   "source": [
    "# Paramos warnings dentro do jupyter apenas para deixar o codigo mais limpo\n",
    "import warnings\n",
    "\n",
    "warnings.filterwarnings('ignore', category=UserWarning) "
   ]
  },
  {
   "cell_type": "markdown",
   "id": "e2805ff8-b978-4d00-b915-50dc149959c1",
   "metadata": {},
   "source": [
    "<h3>Observações</h3>\n",
    "\n",
    "Esse notebook tem como objetivo rodar apenas um benchmark de respostas baseado em uma lib criada internamente. \n",
    "<br> O ideal é que sejam utilizadas apenas poucas linhas de código como no exemplo:"
   ]
  },
  {
   "cell_type": "code",
   "execution_count": 2,
   "id": "dca79be1-2757-42ac-b32f-39cbb8da18c5",
   "metadata": {},
   "outputs": [
    {
     "name": "stdout",
     "output_type": "stream",
     "text": [
      "|2024-02-22 14:42:33.181190| Hardware report:\n",
      "        \n",
      "    ==============================================\n",
      "     Software:\n",
      "      Python ver:............3.9.6\n",
      "      OS system:.............Darwin\n",
      "      OS name:...............posix\n",
      "      OS plataform:..........23.2.0\n",
      "      Machine sys:...........arm64\n",
      "      Machine architecture...('64bit', '')\n",
      "\n",
      "    ==============================================\n",
      "     CPU:\n",
      "      Total cores:...........8\n",
      "      Logical cores:.........8\n",
      "      CPU max frequency:.....Max Frequency: 3228.00Mhz\n",
      "      CPU min frequency:.....Min Frequency: 600.00Mhz \n",
      "      CPU frequency now:.....Current Frequency: 3228.00Mhz \n",
      "\n",
      "    ==============================================\n",
      "     RAM:\n",
      "      Total RAM:.............16.00GB\n",
      "      RAM avaliable:.........5.88GB\n",
      "      RAM used:..............6.32GB\n",
      "      RAM%:..................63.3\n",
      "      \n",
      "    ==============================================\n",
      "     Storage:\n",
      "      Partition 1:............DISK1 - Device: /dev/disk3s3s1\n",
      "      Partition 2:............DISK1 - Device: /dev/disk3s6\n",
      "      Partition 3:............DISK1 - Device: /dev/disk3s4\n",
      "      Python avaliable HDD:...460.43GB\n",
      "      Python free HDD:........240.25GB\n",
      "\n",
      "    ==============================================\n",
      "     GPU:\n",
      "      GPU:....................[]\n",
      "\n",
      "    ==============================================\n",
      "    \n",
      "Ligando os motores...\n",
      "Total de documentos encontrados: 5 \n",
      "Indexando...\n",
      "Base de dados criada em:  ./00_storage\n",
      "VectorStore carregado a partir de:./00_storage\n",
      "Modelo carregado e instanciado com sucesso\n",
      "Warmup do motor finalizado\n",
      "====================================\n",
      "O que é LANNATE?\n",
      " LANNATE é um Inseticida utilizado para controlar pragas agrícolas, especificamente os insetos que danificam culturas como soja, feijão, mandioquinha e outros. É importante seguir as recomendações da bula ou rotóulo para usar o produto de forma eficaz e evitar danos às culturas. LANNATE é seletivo às culturas recomendadas e deve ser utilizado de acordo com as instruções fornecidas na bula ou rotóulo.====================================\n",
      "CPU times: user 3min 12s, sys: 2min 45s, total: 5min 57s\n",
      "Wall time: 4min 51s\n"
     ]
    }
   ],
   "source": [
    "%%time\n",
    "\n",
    "from custom_libs.custom_llm import LLM_With_Rag\n",
    "\n",
    "llm = LLM_With_Rag(assist_log = True, llm_verbose = False)\n",
    "\n",
    "llm.start_model()\n",
    "\n",
    "llm.answer_me(\"O que é LANNATE?\")"
   ]
  },
  {
   "cell_type": "markdown",
   "id": "2115e58f-e18a-48af-b7b9-435db362e00f",
   "metadata": {},
   "source": [
    "---"
   ]
  },
  {
   "cell_type": "markdown",
   "id": "815044ec-7a7c-4976-97de-71f085f817a1",
   "metadata": {},
   "source": [
    "<h3>Rode na sua maquina executando as linhas:</h3>"
   ]
  },
  {
   "cell_type": "code",
   "execution_count": null,
   "id": "c7f7aafb-3901-4295-ba5f-ef41c51c6a9e",
   "metadata": {},
   "outputs": [],
   "source": [
    "%%time\n",
    "\n",
    "from custom_libs.custom_llm import LLM_With_Rag\n",
    "\n",
    "llm = LLM_With_Rag(assist_log = True)\n",
    "\n",
    "llm.start_model()\n",
    "\n",
    "llm.answer_me(\"O que é PRIVILEGE?\")"
   ]
  }
 ],
 "metadata": {
  "kernelspec": {
   "display_name": "Python 3 (ipykernel)",
   "language": "python",
   "name": "python3"
  },
  "language_info": {
   "codemirror_mode": {
    "name": "ipython",
    "version": 3
   },
   "file_extension": ".py",
   "mimetype": "text/x-python",
   "name": "python",
   "nbconvert_exporter": "python",
   "pygments_lexer": "ipython3",
   "version": "3.9.6"
  }
 },
 "nbformat": 4,
 "nbformat_minor": 5
}
