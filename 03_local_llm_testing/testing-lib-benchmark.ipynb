{
 "cells": [
  {
   "cell_type": "markdown",
   "id": "2d7ba319-bc66-46a0-8ff3-ad2744827961",
   "metadata": {
    "tags": []
   },
   "source": [
    "<h1>Nutrien + LLMs - Llama2/Vicuna com RAG</h1>"
   ]
  },
  {
   "cell_type": "markdown",
   "id": "e857ed03-95fc-4ebd-9be6-a715e021f438",
   "metadata": {},
   "source": [
    "Esse notebook foi criado com o intuito de explorar as possibilidades de utilização de LLM's com a técnica de RAG. Aqui vamos utilizar modelos de conversação para extrair dados de textos completos e responder de forma coesa perguntas inputadas pelo usuário."
   ]
  },
  {
   "cell_type": "markdown",
   "id": "c793102c-2b62-417a-8774-2819a8d5e59b",
   "metadata": {},
   "source": [
    "<h2>Prefácio e considerações</h2>"
   ]
  },
  {
   "cell_type": "markdown",
   "id": "fa04e0b6-b62c-4c03-949d-7d67e69a51ef",
   "metadata": {},
   "source": [
    "<h3>Glossário + links</h3>\n",
    "\n",
    "* O que é um __LLM__: https://pt.wikipedia.org/wiki/Modelo_de_linguagem_grande \n",
    "* Um LLM chamado __LLAMA2__: https://pt.wikipedia.org/wiki/LLaMA\n",
    "    * LLAMA2 CHAT 7b: https://huggingface.co/TheBloke/Llama-2-7B-Chat-GGUF/blob/main/llama-2-7b-chat.Q5_K_M.gguf\n",
    "    * LLAMA2 CHAT 13b: https://huggingface.co/TheBloke/Llama-2-13B-chat-GGUF/blob/main/llama-2-13b-chat.Q5_K_S.gguf\n",
    "* Um LLM chamado __Vicuna__: https://en.wikipedia.org/wiki/Vicuna_LLM\n",
    "    * Vicuna 13b Q5: https://huggingface.co/TheBloke/vicuna-13B-v1.5-16K-GGUF/blob/main/vicuna-13b-v1.5-16k.Q5_K_S.gguf\n",
    "    * Vicuna 13b Q3: https://huggingface.co/TheBloke/vicuna-13B-v1.5-16K-GGUF/blob/main/vicuna-13b-v1.5-16k.Q3_K_L.gguf\n",
    "* O que é RAG: https://medium.com/blog-do-zouza/rag-retrieval-augmented-generation-8238a20e381d#:~:text=A%20RAG%20%C3%A9%20uma%20t%C3%A9cnica,de%20dados%20adicionais%20sem%20retreinamento\n",
    "* Links utilizados como __auxilio nessa exploração__:\n",
    "    * Utilização de LLM's de forma __local__: https://python.langchain.com/docs/guides/local_llms\n",
    "    * Guia de referencia da LIB __Langchain__: https://api.python.langchain.com/en/latest/langchain_api_reference.html\n",
    "    * Guia de referencia da LIB __llama-cpp__: https://python.langchain.com/docs/integrations/llms/llamacpp\n",
    "    * Guia de referencia da LIB __llama-index__: https://docs.llamaindex.ai/en/stable/"
   ]
  },
  {
   "cell_type": "code",
   "execution_count": 2,
   "id": "802b3fb2-0d61-41db-8967-7747c0232389",
   "metadata": {},
   "outputs": [],
   "source": [
    "# Paramos warnings dentro do jupyter apenas para deixar o codigo mais limpo\n",
    "import warnings\n",
    "\n",
    "warnings.filterwarnings('ignore', category=UserWarning) "
   ]
  },
  {
   "cell_type": "markdown",
   "id": "e2805ff8-b978-4d00-b915-50dc149959c1",
   "metadata": {},
   "source": [
    "<h3>Observações</h3>\n",
    "\n",
    "Esse notebook tem como objetivo rodar apenas um benchmark de respostas baseado em uma lib criada internamente. \n",
    "<br> O ideal é que sejam utilizadas apenas poucas linhas de código como no exemplo:"
   ]
  },
  {
   "cell_type": "code",
   "execution_count": 3,
   "id": "dca79be1-2757-42ac-b32f-39cbb8da18c5",
   "metadata": {},
   "outputs": [
    {
     "name": "stdout",
     "output_type": "stream",
     "text": [
      "|2024-03-05 18:41:08.828334| Hardware report:\n",
      "        \n",
      "    ==============================================\n",
      "     Software:\n",
      "      Python ver:............3.10.6\n",
      "      OS system:.............Windows\n",
      "      OS name:...............nt\n",
      "      OS plataform:..........10\n",
      "      Machine sys:...........AMD64\n",
      "      Machine architecture...('64bit', 'WindowsPE')\n",
      "\n",
      "    ==============================================\n",
      "     CPU:\n",
      "      Total cores:...........6\n",
      "      Logical cores:.........12\n",
      "      CPU max frequency:.....Max Frequency: 3701.00Mhz\n",
      "      CPU min frequency:.....Min Frequency: 0.00Mhz \n",
      "      CPU frequency now:.....Current Frequency: 3701.00Mhz \n",
      "\n",
      "    ==============================================\n",
      "     RAM:\n",
      "      Total RAM:.............47.89GB\n",
      "      RAM avaliable:.........37.45GB\n",
      "      RAM used:..............10.44GB\n",
      "      RAM%:..................21.8\n",
      "      \n",
      "    ==============================================\n",
      "     Storage:\n",
      "      Partition 1:............DISK1 - Device: C:\\\n",
      "      Partition 2:............DISK1 - Device: X:\\\n",
      "      Partition 3:............DISK1 - Device: Z:\\\n",
      "      Python avaliable HDD:...1.82TB\n",
      "      Python free HDD:........1.12TB\n",
      "\n",
      "    ==============================================\n",
      "     GPU:\n",
      "      GPU:....................[<GPUtil.GPUtil.GPU object at 0x0000027B66F54AF0>]\n",
      "      GPU Avaliable:..........[0]\n",
      "\n",
      "    ==============================================\n",
      "    \n",
      "Ligando os motores...\n",
      "Total de documentos encontrados: 5 \n",
      "Indexando...\n",
      "Base de dados criada em:  ./00_storage\n"
     ]
    },
    {
     "name": "stderr",
     "output_type": "stream",
     "text": [
      "llama_model_loader: loaded meta data with 19 key-value pairs and 291 tensors from ./01_models/llama-2-7b-chat.Q5_K_M.gguf (version GGUF V2)\n",
      "llama_model_loader: Dumping metadata keys/values. Note: KV overrides do not apply in this output.\n",
      "llama_model_loader: - kv   0:                       general.architecture str              = llama\n",
      "llama_model_loader: - kv   1:                               general.name str              = LLaMA v2\n",
      "llama_model_loader: - kv   2:                       llama.context_length u32              = 4096\n",
      "llama_model_loader: - kv   3:                     llama.embedding_length u32              = 4096\n",
      "llama_model_loader: - kv   4:                          llama.block_count u32              = 32\n",
      "llama_model_loader: - kv   5:                  llama.feed_forward_length u32              = 11008\n",
      "llama_model_loader: - kv   6:                 llama.rope.dimension_count u32              = 128\n",
      "llama_model_loader: - kv   7:                 llama.attention.head_count u32              = 32\n",
      "llama_model_loader: - kv   8:              llama.attention.head_count_kv u32              = 32\n",
      "llama_model_loader: - kv   9:     llama.attention.layer_norm_rms_epsilon f32              = 0.000001\n",
      "llama_model_loader: - kv  10:                          general.file_type u32              = 17\n",
      "llama_model_loader: - kv  11:                       tokenizer.ggml.model str              = llama\n",
      "llama_model_loader: - kv  12:                      tokenizer.ggml.tokens arr[str,32000]   = [\"<unk>\", \"<s>\", \"</s>\", \"<0x00>\", \"<...\n",
      "llama_model_loader: - kv  13:                      tokenizer.ggml.scores arr[f32,32000]   = [0.000000, 0.000000, 0.000000, 0.0000...\n",
      "llama_model_loader: - kv  14:                  tokenizer.ggml.token_type arr[i32,32000]   = [2, 3, 3, 6, 6, 6, 6, 6, 6, 6, 6, 6, ...\n",
      "llama_model_loader: - kv  15:                tokenizer.ggml.bos_token_id u32              = 1\n",
      "llama_model_loader: - kv  16:                tokenizer.ggml.eos_token_id u32              = 2\n",
      "llama_model_loader: - kv  17:            tokenizer.ggml.unknown_token_id u32              = 0\n",
      "llama_model_loader: - kv  18:               general.quantization_version u32              = 2\n",
      "llama_model_loader: - type  f32:   65 tensors\n",
      "llama_model_loader: - type q5_K:  193 tensors\n",
      "llama_model_loader: - type q6_K:   33 tensors\n",
      "llm_load_vocab: special tokens definition check successful ( 259/32000 ).\n",
      "llm_load_print_meta: format           = GGUF V2\n",
      "llm_load_print_meta: arch             = llama\n",
      "llm_load_print_meta: vocab type       = SPM\n",
      "llm_load_print_meta: n_vocab          = 32000\n",
      "llm_load_print_meta: n_merges         = 0\n",
      "llm_load_print_meta: n_ctx_train      = 4096\n",
      "llm_load_print_meta: n_embd           = 4096\n",
      "llm_load_print_meta: n_head           = 32\n",
      "llm_load_print_meta: n_head_kv        = 32\n",
      "llm_load_print_meta: n_layer          = 32\n",
      "llm_load_print_meta: n_rot            = 128\n",
      "llm_load_print_meta: n_embd_head_k    = 128\n",
      "llm_load_print_meta: n_embd_head_v    = 128\n",
      "llm_load_print_meta: n_gqa            = 1\n",
      "llm_load_print_meta: n_embd_k_gqa     = 4096\n",
      "llm_load_print_meta: n_embd_v_gqa     = 4096\n",
      "llm_load_print_meta: f_norm_eps       = 0.0e+00\n",
      "llm_load_print_meta: f_norm_rms_eps   = 1.0e-06\n",
      "llm_load_print_meta: f_clamp_kqv      = 0.0e+00\n",
      "llm_load_print_meta: f_max_alibi_bias = 0.0e+00\n",
      "llm_load_print_meta: n_ff             = 11008\n",
      "llm_load_print_meta: n_expert         = 0\n",
      "llm_load_print_meta: n_expert_used    = 0\n",
      "llm_load_print_meta: rope scaling     = linear\n",
      "llm_load_print_meta: freq_base_train  = 10000.0\n",
      "llm_load_print_meta: freq_scale_train = 1\n",
      "llm_load_print_meta: n_yarn_orig_ctx  = 4096\n",
      "llm_load_print_meta: rope_finetuned   = unknown\n",
      "llm_load_print_meta: model type       = 7B\n",
      "llm_load_print_meta: model ftype      = Q5_K - Medium\n",
      "llm_load_print_meta: model params     = 6.74 B\n",
      "llm_load_print_meta: model size       = 4.45 GiB (5.68 BPW) \n",
      "llm_load_print_meta: general.name     = LLaMA v2\n",
      "llm_load_print_meta: BOS token        = 1 '<s>'\n",
      "llm_load_print_meta: EOS token        = 2 '</s>'\n",
      "llm_load_print_meta: UNK token        = 0 '<unk>'\n",
      "llm_load_print_meta: LF token         = 13 '<0x0A>'\n",
      "llm_load_tensors: ggml ctx size =    0.11 MiB\n"
     ]
    },
    {
     "name": "stdout",
     "output_type": "stream",
     "text": [
      "VectorStore carregado a partir de:./00_storage\n"
     ]
    },
    {
     "name": "stderr",
     "output_type": "stream",
     "text": [
      "llm_load_tensors:        CPU buffer size =  4560.87 MiB\n",
      "...................................................................................................\n",
      "llama_new_context_with_model: n_ctx      = 2048\n",
      "llama_new_context_with_model: freq_base  = 10000.0\n",
      "llama_new_context_with_model: freq_scale = 1\n",
      "llama_kv_cache_init:        CPU KV buffer size =  1024.00 MiB\n",
      "llama_new_context_with_model: KV self size  = 1024.00 MiB, K (f16):  512.00 MiB, V (f16):  512.00 MiB\n",
      "llama_new_context_with_model:        CPU input buffer size   =    64.03 MiB\n",
      "llama_new_context_with_model:        CPU compute buffer size =   640.00 MiB\n",
      "llama_new_context_with_model: graph splits (measure): 1\n",
      "AVX = 1 | AVX_VNNI = 0 | AVX2 = 1 | AVX512 = 0 | AVX512_VBMI = 0 | AVX512_VNNI = 0 | FMA = 1 | NEON = 0 | ARM_FMA = 0 | F16C = 1 | FP16_VA = 0 | WASM_SIMD = 0 | BLAS = 0 | SSE3 = 1 | SSSE3 = 0 | VSX = 0 | MATMUL_INT8 = 0 | \n",
      "Model metadata: {'general.name': 'LLaMA v2', 'general.architecture': 'llama', 'llama.context_length': '4096', 'llama.rope.dimension_count': '128', 'llama.embedding_length': '4096', 'llama.block_count': '32', 'llama.feed_forward_length': '11008', 'llama.attention.head_count': '32', 'tokenizer.ggml.eos_token_id': '2', 'general.file_type': '17', 'llama.attention.head_count_kv': '32', 'llama.attention.layer_norm_rms_epsilon': '0.000001', 'tokenizer.ggml.model': 'llama', 'general.quantization_version': '2', 'tokenizer.ggml.bos_token_id': '1', 'tokenizer.ggml.unknown_token_id': '0'}\n"
     ]
    },
    {
     "name": "stdout",
     "output_type": "stream",
     "text": [
      "Modelo carregado e instanciado com sucesso\n",
      "Warmup do motor finalizado\n",
      "====================================\n",
      "O que é LANNATE?\n",
      " LANNATE é um produto de mecanismo de ação efetivo para a praga. É importante seguir as recomendações da bula para usar o produto de forma eficaz e evitar danos às culturas recomendadas. LANNATE é seletivo às culturas recomendadas quando utilizado de acordo com as instruções da bula. É importante lembrar que o produto deve ser utilizado exclusivamente de acordo com as recomendações da bula/rótulo para evitar danos às culturas e à saúde humana."
     ]
    },
    {
     "name": "stderr",
     "output_type": "stream",
     "text": [
      "\n",
      "llama_print_timings:        load time =   20924.35 ms\n",
      "llama_print_timings:      sample time =      16.72 ms /   136 runs   (    0.12 ms per token,  8133.48 tokens per second)\n",
      "llama_print_timings: prompt eval time =   20924.11 ms /   320 tokens (   65.39 ms per token,    15.29 tokens per second)\n",
      "llama_print_timings:        eval time =   22101.57 ms /   135 runs   (  163.72 ms per token,     6.11 tokens per second)\n",
      "llama_print_timings:       total time =   43411.38 ms /   455 tokens\n"
     ]
    },
    {
     "name": "stdout",
     "output_type": "stream",
     "text": [
      "\n",
      "====================================\n",
      "\n",
      "====================================\n",
      "Qual é o numero MAPA do LANNATE?\n"
     ]
    },
    {
     "name": "stderr",
     "output_type": "stream",
     "text": [
      "Llama.generate: prefix-match hit\n"
     ]
    },
    {
     "name": "stdout",
     "output_type": "stream",
     "text": [
      " O numero MAPA do LANNATE é 16812."
     ]
    },
    {
     "name": "stderr",
     "output_type": "stream",
     "text": [
      "\n",
      "llama_print_timings:        load time =   20924.35 ms\n",
      "llama_print_timings:      sample time =       2.46 ms /    19 runs   (    0.13 ms per token,  7707.91 tokens per second)\n",
      "llama_print_timings: prompt eval time =   17902.11 ms /   252 tokens (   71.04 ms per token,    14.08 tokens per second)\n",
      "llama_print_timings:        eval time =    2974.24 ms /    18 runs   (  165.24 ms per token,     6.05 tokens per second)\n",
      "llama_print_timings:       total time =   20929.47 ms /   270 tokens\n"
     ]
    },
    {
     "name": "stdout",
     "output_type": "stream",
     "text": [
      "\n",
      "====================================\n",
      "\n",
      "CPU times: total: 8min 47s\n",
      "Wall time: 2min 26s\n"
     ]
    }
   ],
   "source": [
    "%%time\n",
    "\n",
    "# Importa a lib que vai executar a LLM de forma local\n",
    "from custom_libs.custom_llm import LLM_With_Rag\n",
    "\n",
    "# Cria um objeto que instancia a classe de utilizacao das LLM\n",
    "llm = LLM_With_Rag(assist_log = True, llm_verbose = True) #llm_verbose = True e necessario no Windows\n",
    "\n",
    "# Inicializa a LLM e gera o banco de dados indexado com os documentos\n",
    "# que vao ser lidos\n",
    "llm.start_model()\n",
    "\n",
    "# Pergunta para o modelo\n",
    "llm.answer_me(\"O que é LANNATE?\")\n",
    "\n",
    "# Pergunta para o modelo\n",
    "llm.answer_me(\"Qual é o numero MAPA do LANNATE?\")"
   ]
  },
  {
   "cell_type": "markdown",
   "id": "2115e58f-e18a-48af-b7b9-435db362e00f",
   "metadata": {},
   "source": [
    "---"
   ]
  },
  {
   "cell_type": "markdown",
   "id": "815044ec-7a7c-4976-97de-71f085f817a1",
   "metadata": {},
   "source": [
    "<h3>Rode na sua maquina executando as linhas:</h3>"
   ]
  },
  {
   "cell_type": "code",
   "execution_count": 4,
   "id": "c7f7aafb-3901-4295-ba5f-ef41c51c6a9e",
   "metadata": {},
   "outputs": [
    {
     "name": "stdout",
     "output_type": "stream",
     "text": [
      "|2024-03-05 18:43:32.481395| Hardware report:\n",
      "        \n",
      "    ==============================================\n",
      "     Software:\n",
      "      Python ver:............3.10.6\n",
      "      OS system:.............Windows\n",
      "      OS name:...............nt\n",
      "      OS plataform:..........10\n",
      "      Machine sys:...........AMD64\n",
      "      Machine architecture...('64bit', 'WindowsPE')\n",
      "\n",
      "    ==============================================\n",
      "     CPU:\n",
      "      Total cores:...........6\n",
      "      Logical cores:.........12\n",
      "      CPU max frequency:.....Max Frequency: 3701.00Mhz\n",
      "      CPU min frequency:.....Min Frequency: 0.00Mhz \n",
      "      CPU frequency now:.....Current Frequency: 3701.00Mhz \n",
      "\n",
      "    ==============================================\n",
      "     RAM:\n",
      "      Total RAM:.............47.89GB\n",
      "      RAM avaliable:.........30.46GB\n",
      "      RAM used:..............17.43GB\n",
      "      RAM%:..................36.4\n",
      "      \n",
      "    ==============================================\n",
      "     Storage:\n",
      "      Partition 1:............DISK1 - Device: C:\\\n",
      "      Partition 2:............DISK1 - Device: X:\\\n",
      "      Partition 3:............DISK1 - Device: Z:\\\n",
      "      Python avaliable HDD:...1.82TB\n",
      "      Python free HDD:........1.12TB\n",
      "\n",
      "    ==============================================\n",
      "     GPU:\n",
      "      GPU:....................[<GPUtil.GPUtil.GPU object at 0x0000027B66E904C0>]\n",
      "      GPU Avaliable:..........[0]\n",
      "\n",
      "    ==============================================\n",
      "    \n",
      "Ligando os motores...\n",
      "Total de documentos encontrados: 5 \n",
      "Indexando...\n",
      "Base de dados criada em:  ./00_storage\n"
     ]
    },
    {
     "name": "stderr",
     "output_type": "stream",
     "text": [
      "llama_model_loader: loaded meta data with 19 key-value pairs and 291 tensors from ./01_models/llama-2-7b-chat.Q5_K_M.gguf (version GGUF V2)\n",
      "llama_model_loader: Dumping metadata keys/values. Note: KV overrides do not apply in this output.\n",
      "llama_model_loader: - kv   0:                       general.architecture str              = llama\n",
      "llama_model_loader: - kv   1:                               general.name str              = LLaMA v2\n",
      "llama_model_loader: - kv   2:                       llama.context_length u32              = 4096\n",
      "llama_model_loader: - kv   3:                     llama.embedding_length u32              = 4096\n",
      "llama_model_loader: - kv   4:                          llama.block_count u32              = 32\n",
      "llama_model_loader: - kv   5:                  llama.feed_forward_length u32              = 11008\n",
      "llama_model_loader: - kv   6:                 llama.rope.dimension_count u32              = 128\n",
      "llama_model_loader: - kv   7:                 llama.attention.head_count u32              = 32\n",
      "llama_model_loader: - kv   8:              llama.attention.head_count_kv u32              = 32\n",
      "llama_model_loader: - kv   9:     llama.attention.layer_norm_rms_epsilon f32              = 0.000001\n",
      "llama_model_loader: - kv  10:                          general.file_type u32              = 17\n",
      "llama_model_loader: - kv  11:                       tokenizer.ggml.model str              = llama\n",
      "llama_model_loader: - kv  12:                      tokenizer.ggml.tokens arr[str,32000]   = [\"<unk>\", \"<s>\", \"</s>\", \"<0x00>\", \"<...\n",
      "llama_model_loader: - kv  13:                      tokenizer.ggml.scores arr[f32,32000]   = [0.000000, 0.000000, 0.000000, 0.0000...\n",
      "llama_model_loader: - kv  14:                  tokenizer.ggml.token_type arr[i32,32000]   = [2, 3, 3, 6, 6, 6, 6, 6, 6, 6, 6, 6, ...\n",
      "llama_model_loader: - kv  15:                tokenizer.ggml.bos_token_id u32              = 1\n",
      "llama_model_loader: - kv  16:                tokenizer.ggml.eos_token_id u32              = 2\n",
      "llama_model_loader: - kv  17:            tokenizer.ggml.unknown_token_id u32              = 0\n",
      "llama_model_loader: - kv  18:               general.quantization_version u32              = 2\n",
      "llama_model_loader: - type  f32:   65 tensors\n",
      "llama_model_loader: - type q5_K:  193 tensors\n",
      "llama_model_loader: - type q6_K:   33 tensors\n",
      "llm_load_vocab: special tokens definition check successful ( 259/32000 ).\n",
      "llm_load_print_meta: format           = GGUF V2\n",
      "llm_load_print_meta: arch             = llama\n",
      "llm_load_print_meta: vocab type       = SPM\n",
      "llm_load_print_meta: n_vocab          = 32000\n",
      "llm_load_print_meta: n_merges         = 0\n",
      "llm_load_print_meta: n_ctx_train      = 4096\n",
      "llm_load_print_meta: n_embd           = 4096\n",
      "llm_load_print_meta: n_head           = 32\n",
      "llm_load_print_meta: n_head_kv        = 32\n",
      "llm_load_print_meta: n_layer          = 32\n",
      "llm_load_print_meta: n_rot            = 128\n",
      "llm_load_print_meta: n_embd_head_k    = 128\n",
      "llm_load_print_meta: n_embd_head_v    = 128\n",
      "llm_load_print_meta: n_gqa            = 1\n",
      "llm_load_print_meta: n_embd_k_gqa     = 4096\n",
      "llm_load_print_meta: n_embd_v_gqa     = 4096\n",
      "llm_load_print_meta: f_norm_eps       = 0.0e+00\n",
      "llm_load_print_meta: f_norm_rms_eps   = 1.0e-06\n",
      "llm_load_print_meta: f_clamp_kqv      = 0.0e+00\n",
      "llm_load_print_meta: f_max_alibi_bias = 0.0e+00\n",
      "llm_load_print_meta: n_ff             = 11008\n",
      "llm_load_print_meta: n_expert         = 0\n",
      "llm_load_print_meta: n_expert_used    = 0\n",
      "llm_load_print_meta: rope scaling     = linear\n",
      "llm_load_print_meta: freq_base_train  = 10000.0\n",
      "llm_load_print_meta: freq_scale_train = 1\n",
      "llm_load_print_meta: n_yarn_orig_ctx  = 4096\n",
      "llm_load_print_meta: rope_finetuned   = unknown\n",
      "llm_load_print_meta: model type       = 7B\n",
      "llm_load_print_meta: model ftype      = Q5_K - Medium\n",
      "llm_load_print_meta: model params     = 6.74 B\n",
      "llm_load_print_meta: model size       = 4.45 GiB (5.68 BPW) \n",
      "llm_load_print_meta: general.name     = LLaMA v2\n",
      "llm_load_print_meta: BOS token        = 1 '<s>'\n",
      "llm_load_print_meta: EOS token        = 2 '</s>'\n",
      "llm_load_print_meta: UNK token        = 0 '<unk>'\n",
      "llm_load_print_meta: LF token         = 13 '<0x0A>'\n",
      "llm_load_tensors: ggml ctx size =    0.11 MiB\n"
     ]
    },
    {
     "name": "stdout",
     "output_type": "stream",
     "text": [
      "VectorStore carregado a partir de:./00_storage\n"
     ]
    },
    {
     "name": "stderr",
     "output_type": "stream",
     "text": [
      "llm_load_tensors:        CPU buffer size =  4560.87 MiB\n",
      "...................................................................................................\n",
      "llama_new_context_with_model: n_ctx      = 2048\n",
      "llama_new_context_with_model: freq_base  = 10000.0\n",
      "llama_new_context_with_model: freq_scale = 1\n",
      "llama_kv_cache_init:        CPU KV buffer size =  1024.00 MiB\n",
      "llama_new_context_with_model: KV self size  = 1024.00 MiB, K (f16):  512.00 MiB, V (f16):  512.00 MiB\n",
      "llama_new_context_with_model:        CPU input buffer size   =    64.03 MiB\n",
      "llama_new_context_with_model:        CPU compute buffer size =   640.00 MiB\n",
      "llama_new_context_with_model: graph splits (measure): 1\n"
     ]
    },
    {
     "name": "stdout",
     "output_type": "stream",
     "text": [
      "Modelo carregado e instanciado com sucesso\n",
      "Warmup do motor finalizado\n",
      "CPU times: total: 4min 42s\n",
      "Wall time: 1min 17s\n"
     ]
    },
    {
     "name": "stderr",
     "output_type": "stream",
     "text": [
      "AVX = 1 | AVX_VNNI = 0 | AVX2 = 1 | AVX512 = 0 | AVX512_VBMI = 0 | AVX512_VNNI = 0 | FMA = 1 | NEON = 0 | ARM_FMA = 0 | F16C = 1 | FP16_VA = 0 | WASM_SIMD = 0 | BLAS = 0 | SSE3 = 1 | SSSE3 = 0 | VSX = 0 | MATMUL_INT8 = 0 | \n",
      "Model metadata: {'general.name': 'LLaMA v2', 'general.architecture': 'llama', 'llama.context_length': '4096', 'llama.rope.dimension_count': '128', 'llama.embedding_length': '4096', 'llama.block_count': '32', 'llama.feed_forward_length': '11008', 'llama.attention.head_count': '32', 'tokenizer.ggml.eos_token_id': '2', 'general.file_type': '17', 'llama.attention.head_count_kv': '32', 'llama.attention.layer_norm_rms_epsilon': '0.000001', 'tokenizer.ggml.model': 'llama', 'general.quantization_version': '2', 'tokenizer.ggml.bos_token_id': '1', 'tokenizer.ggml.unknown_token_id': '0'}\n"
     ]
    },
    {
     "data": {
      "text/plain": [
       "<langchain_community.vectorstores.faiss.FAISS at 0x27b346ad060>"
      ]
     },
     "execution_count": 4,
     "metadata": {},
     "output_type": "execute_result"
    }
   ],
   "source": [
    "%%time\n",
    "\n",
    "# Importa a lib que vai executar a LLM de forma local\n",
    "from custom_libs.custom_llm import LLM_With_Rag\n",
    "\n",
    "# Cria um objeto que instancia a classe de utilizacao das LLM\n",
    "llm = LLM_With_Rag(assist_log = True, llm_verbose = True)\n",
    "\n",
    "# Inicializa a LLM e gera o banco de dados indexado com os documentos\n",
    "# que vao ser lidos\n",
    "llm.start_model()\n"
   ]
  },
  {
   "cell_type": "code",
   "execution_count": 5,
   "id": "5e8f4847-30d5-4cbc-b611-a1d7106ba55a",
   "metadata": {},
   "outputs": [
    {
     "name": "stdout",
     "output_type": "stream",
     "text": [
      "====================================\n",
      "O que é PRIVILEGE?\n",
      "📄 PRIVILEGE é um inseticida de contato e de ingestão, translaminar e sistêmico, usado para o controle de pragas nas culturas agrícolas. É necessário seguir as seguintes estratégias para usar PRIVILEGE eficazmente: usar-lo apenas dentro de um intervalo de aplicação de cerca de 30 dias, fazer aplicações sucessivas e seguir as orientações do fabricante."
     ]
    },
    {
     "name": "stderr",
     "output_type": "stream",
     "text": [
      "\n",
      "llama_print_timings:        load time =   23673.48 ms\n",
      "llama_print_timings:      sample time =      14.45 ms /   115 runs   (    0.13 ms per token,  7957.38 tokens per second)\n",
      "llama_print_timings: prompt eval time =   23673.09 ms /   349 tokens (   67.83 ms per token,    14.74 tokens per second)\n",
      "llama_print_timings:        eval time =   18308.54 ms /   114 runs   (  160.60 ms per token,     6.23 tokens per second)\n",
      "llama_print_timings:       total time =   42314.65 ms /   463 tokens\n"
     ]
    },
    {
     "name": "stdout",
     "output_type": "stream",
     "text": [
      "\n",
      "====================================\n",
      "\n"
     ]
    }
   ],
   "source": [
    "# Executa a pergunta\n",
    "llm.answer_me(\"O que é PRIVILEGE?\")"
   ]
  },
  {
   "cell_type": "markdown",
   "id": "4aadbffb-39dc-4103-84f2-97205fe9fd38",
   "metadata": {},
   "source": [
    "---"
   ]
  },
  {
   "cell_type": "code",
   "execution_count": null,
   "id": "f324bc54-5009-4307-8430-5efa79929437",
   "metadata": {},
   "outputs": [],
   "source": []
  }
 ],
 "metadata": {
  "kernelspec": {
   "display_name": "Python 3 (ipykernel)",
   "language": "python",
   "name": "python3"
  },
  "language_info": {
   "codemirror_mode": {
    "name": "ipython",
    "version": 3
   },
   "file_extension": ".py",
   "mimetype": "text/x-python",
   "name": "python",
   "nbconvert_exporter": "python",
   "pygments_lexer": "ipython3",
   "version": "3.10.6"
  }
 },
 "nbformat": 4,
 "nbformat_minor": 5
}
